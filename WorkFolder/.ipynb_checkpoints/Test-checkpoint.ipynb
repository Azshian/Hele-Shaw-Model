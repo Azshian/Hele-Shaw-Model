{
 "cells": [
  {
   "cell_type": "code",
   "execution_count": 1,
   "metadata": {},
   "outputs": [],
   "source": [
    "import numpy as np\n",
    "import matplotlib.pyplot as plt\n",
    "import pandas as pd\n",
    "import time\n",
    "file = 'A1.dat'\n",
    "#file = 'F42A.dat'"
   ]
  },
  {
   "cell_type": "code",
   "execution_count": 2,
   "metadata": {
    "scrolled": false
   },
   "outputs": [],
   "source": [
    "with open(file) as myfile:\n",
    "    head = [next(myfile) for x in range(5)]\n",
    "\n",
    "if (head[0][0:5]) == 'ascii': #check if there's header information\n",
    "    the_size = int(head[2][0:3])\n",
    "    df = pd.read_csv(file, sep = ' ', header=None, skiprows = 4)\n",
    "elif (head[0][0] == str(0) or head[0][0] ==  str(1)):\n",
    "    df = pd.read_csv(file, sep = ' ', header=None)"
   ]
  },
  {
   "cell_type": "code",
   "execution_count": 3,
   "metadata": {},
   "outputs": [
    {
     "name": "stdout",
     "output_type": "stream",
     "text": [
      "90000 301\n",
      "90000 300\n"
     ]
    }
   ],
   "source": [
    "print( df.shape[0],  df.shape[1] )\n",
    "df = df.iloc[:, :-1]\n",
    "print( df.shape[0], df.shape[1] )\n",
    "Xnew = df.to_numpy()\n",
    "%reset_selective -f df"
   ]
  },
  {
   "cell_type": "code",
   "execution_count": 16,
   "metadata": {},
   "outputs": [],
   "source": [
    "isize = len(Xnew[0])\n",
    "islice = 35"
   ]
  },
  {
   "cell_type": "code",
   "execution_count": 17,
   "metadata": {},
   "outputs": [
    {
     "data": {
      "image/png": "[encoded data removed]",
      "text/plain": [
       "<Figure size 288x288 with 1 Axes>"
      ]
     },
     "metadata": {
      "needs_background": "light"
     },
     "output_type": "display_data"
    }
   ],
   "source": [
    "X2new = Xnew[isize*islice : isize*islice+isize, :]\n",
    "plt.matshow(X2new[0:isize, 0:isize], origin = 'lower')\n",
    "plt.gca().xaxis.tick_bottom()\n",
    "plt.show()"
   ]
  },
  {
   "cell_type": "code",
   "execution_count": null,
   "metadata": {},
   "outputs": [],
   "source": []
  },
  {
   "cell_type": "markdown",
   "metadata": {},
   "source": [
    "## NP Loadtext"
   ]
  },
  {
   "cell_type": "code",
   "execution_count": null,
   "metadata": {},
   "outputs": [],
   "source": [
    "start = time.time()\n",
    "X = np.loadtxt(file)\n",
    "elapsed_time = (time.time() - start)\n",
    "print(elapsed_time)"
   ]
  },
  {
   "cell_type": "code",
   "execution_count": null,
   "metadata": {},
   "outputs": [],
   "source": [
    "print( X.shape )\n",
    "X2 = X[isize*islice : isize*islice+isize , :]\n",
    "plt.matshow(X2[0:isize, 0:isize], origin = 'lower')\n",
    "plt.gca().xaxis.tick_bottom()\n",
    "plt.show()"
   ]
  }
 ],
 "metadata": {
  "kernelspec": {
   "display_name": "Python 3",
   "language": "python",
   "name": "python3"
  },
  "language_info": {
   "codemirror_mode": {
    "name": "ipython",
    "version": 3
   },
   "file_extension": ".py",
   "mimetype": "text/x-python",
   "name": "python",
   "nbconvert_exporter": "python",
   "pygments_lexer": "ipython3",
   "version": "3.8.2"
  }
 },
 "nbformat": 4,
 "nbformat_minor": 4
}
